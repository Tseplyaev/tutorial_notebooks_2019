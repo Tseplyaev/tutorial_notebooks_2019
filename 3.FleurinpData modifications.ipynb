{
 "cells": [
  {
   "cell_type": "markdown",
   "metadata": {},
   "source": [
    "*please execute the cell below before starting the tutorial by selecting it and pressing Ctrl+Enter*"
   ]
  },
  {
   "cell_type": "code",
   "execution_count": null,
   "metadata": {},
   "outputs": [],
   "source": [
    "# imports correct environment\n",
    "from aiida import load_profile\n",
    "load_profile()\n",
    "\n",
    "# imports load_node() \n",
    "from aiida.orm import load_node"
   ]
  },
  {
   "cell_type": "markdown",
   "metadata": {},
   "source": [
    "# Modifying a Fleur input file"
   ]
  },
  {
   "cell_type": "markdown",
   "metadata": {},
   "source": [
    "To modify an existing `FleurinpData`, we need to load it first. Please, do in via `load_node()` function and proceed to the next section:\n",
    "<!-- fleurinp = load_node(xxx) -->"
   ]
  },
  {
   "cell_type": "code",
   "execution_count": null,
   "metadata": {},
   "outputs": [],
   "source": [
    "# you need to modify this - insert a PK of any FleurinpData\n",
    "fleurinp = load_node(6)"
   ]
  },
  {
   "cell_type": "markdown",
   "metadata": {},
   "source": [
    "## FleurinpModifier"
   ]
  },
  {
   "cell_type": "markdown",
   "metadata": {},
   "source": [
    "The stored `FleurinpData` can not be modified in-place because it was sealed when it was stored in the database. Therefore we always need to create a new `FleurinpData` object to change an existing one. \n",
    "\n",
    "To make changes and store the result in the database, AiiDA-Fleur contains a `FluerinpModifier` class.\n",
    "\n",
    "To start a process of `FleurinpData` modification, we need to import the `FleurinpModifier` class first and initialise an instance:"
   ]
  },
  {
   "cell_type": "code",
   "execution_count": null,
   "metadata": {},
   "outputs": [],
   "source": [
    "# we can also import it using DataFactory:\n",
    "# from aiida.plugins import DataFactory\n",
    "# FleurinpModifier = DataFactory('fleur.fleurinpmodifier')\n",
    "\n",
    "from aiida_fleur.data.fleurinpmodifier import FleurinpModifier\n",
    "\n",
    "fleurmode = FleurinpModifier(fleurinp)"
   ]
  },
  {
   "cell_type": "markdown",
   "metadata": {},
   "source": [
    "Now we need to work with methods belonging to the class to perform a modification. One needs to do two steps:\n",
    "\n",
    "1. Register all required changes\n",
    "2. Apply them and store the result in the database"
   ]
  },
  {
   "cell_type": "markdown",
   "metadata": {},
   "source": [
    "### Registration methods"
   ]
  },
  {
   "cell_type": "markdown",
   "metadata": {},
   "source": [
    "#### set_inpchanges()"
   ]
  },
  {
   "cell_type": "markdown",
   "metadata": {},
   "source": [
    "Probably the simplest way to register a change is to use `set_inpchanges()` that replaces known attributes. For this, one needs to pass a <span style=\"color:red\">key</span>: <span style=\"color:green\">value</span> dictionary into the method call. A key usually corresponds to the name of an attribute in the `inp.xml` file. All supported attribute names can be found in the [documentation](https://aiida-fleur.readthedocs.io/en/latest/module_guide/tools.html#aiida_fleur.tools.xml_util.set_inpchanges).\n",
    "\n",
    "To begin with, we want to set `itmax` to `30` and `minDistance` to `0.00002`:"
   ]
  },
  {
   "cell_type": "code",
   "execution_count": null,
   "metadata": {},
   "outputs": [],
   "source": [
    "fleurmode.set_inpchanges({'itmax': 20, 'minDistance' : 0.00002})"
   ]
  },
  {
   "cell_type": "markdown",
   "metadata": {},
   "source": [
    "One can also provide a python dictionary with the parameter names and their values you would like to change:"
   ]
  },
  {
   "cell_type": "code",
   "execution_count": null,
   "metadata": {},
   "outputs": [],
   "source": [
    "change_dict = {\n",
    "    'dos'       : True, \n",
    "    'ndir'      : -1, \n",
    "    'minEnergy' : -0.8,\n",
    "    'maxEnergy' : 0.8, #### set_inpchanges()\n",
    "    'sigma'     : 0.005,\n",
    "}\n",
    "\n",
    "fleurmode.set_inpchanges(change_dict)"
   ]
  },
  {
   "cell_type": "markdown",
   "metadata": {},
   "source": [
    "#### changes preview"
   ]
  },
  {
   "cell_type": "markdown",
   "metadata": {},
   "source": [
    "Note, the changes are in stock and **not applied yet**. You can make a preview of the resulting `inp.xml` by:"
   ]
  },
  {
   "cell_type": "code",
   "execution_count": null,
   "metadata": {},
   "outputs": [],
   "source": [
    "fleurmode.show(validate=True)   #display=False"
   ]
  },
  {
   "cell_type": "markdown",
   "metadata": {},
   "source": [
    "`validate=True` means the resulting `inp.xml` will be validated against the schema: if you specify changes leading to corrupted `inp.xml` file you will be informed. See an example below:"
   ]
  },
  {
   "cell_type": "code",
   "execution_count": null,
   "metadata": {},
   "outputs": [],
   "source": [
    "# If the changes are not valid we will get an error\n",
    "fleurmode_fail = FleurinpModifier(fleurinp)\n",
    "fleurmode_fail.set_inpchanges({'itmax': -10, 'minDistance' : 0.001})\n",
    "fleurmode_fail.show(validate=True, display=False)"
   ]
  },
  {
   "cell_type": "code",
   "execution_count": null,
   "metadata": {},
   "outputs": [],
   "source": [
    "# or if you misstype a key wrong\n",
    "fleurmode_fail.undo()\n",
    "fleurmode_fail.set_inpchanges({'itma': 10, 'minDistance' : 0.001})\n",
    "fleurmode_fail.show(validate=True, display=False)"
   ]
  },
  {
   "cell_type": "markdown",
   "metadata": {},
   "source": [
    "#### Methods for species manipulation"
   ]
  },
  {
   "cell_type": "markdown",
   "metadata": {},
   "source": [
    "Change muffin tin radii, or any species parameters you have to parse a nested dict with the subtags"
   ]
  },
  {
   "cell_type": "code",
   "execution_count": null,
   "metadata": {},
   "outputs": [],
   "source": [
    "# you need to modify this - replace 'W-1' to a correct specie name \n",
    "fleurmode.set_species('W-1', {'mtSphere' : {'radius' : 3.5, 'gridPoints' : 841}, \n",
    "                              'atomicCutoffs' : {'lmax' : 9, 'lnonsphr' : 6}})\n"
   ]
  },
  {
   "cell_type": "markdown",
   "metadata": {},
   "source": [
    "See the result"
   ]
  },
  {
   "cell_type": "code",
   "execution_count": null,
   "metadata": {},
   "outputs": [],
   "source": [
    "fleurmode.show(validate=True)"
   ]
  },
  {
   "cell_type": "markdown",
   "metadata": {},
   "source": [
    "#### Registered changes management"
   ]
  },
  {
   "cell_type": "markdown",
   "metadata": {},
   "source": [
    "To print out the list of registered changes, run:"
   ]
  },
  {
   "cell_type": "code",
   "execution_count": null,
   "metadata": {},
   "outputs": [],
   "source": [
    "fleurmode.changes()"
   ]
  },
  {
   "cell_type": "markdown",
   "metadata": {},
   "source": [
    "all these changes are not applied and we can revert them:"
   ]
  },
  {
   "cell_type": "code",
   "execution_count": null,
   "metadata": {},
   "outputs": [],
   "source": [
    "fleurmode.undo()   # drops last registered change"
   ]
  },
  {
   "cell_type": "code",
   "execution_count": null,
   "metadata": {},
   "outputs": [],
   "source": [
    "fleurmode.changes()"
   ]
  },
  {
   "cell_type": "code",
   "execution_count": null,
   "metadata": {},
   "outputs": [],
   "source": [
    "fleurmode.undo()"
   ]
  },
  {
   "cell_type": "code",
   "execution_count": null,
   "metadata": {},
   "outputs": [],
   "source": [
    "fleurmode.changes()"
   ]
  },
  {
   "cell_type": "markdown",
   "metadata": {},
   "source": [
    "### Apply changes and store in the database"
   ]
  },
  {
   "cell_type": "markdown",
   "metadata": {},
   "source": [
    "With `freeze()` method we store a new `FleurinpData` object in the database applying all registered changes. `freeze()` return a stored `FleurinpData` object:"
   ]
  },
  {
   "cell_type": "code",
   "execution_count": null,
   "metadata": {},
   "outputs": [],
   "source": [
    "fleurinp_modified = fleurmode.freeze()\n",
    "print('The PK of the stored FleurinpData is {}'.format(fleurinp_modified.pk))"
   ]
  },
  {
   "cell_type": "markdown",
   "metadata": {},
   "source": [
    "## XML registration methods"
   ]
  },
  {
   "cell_type": "markdown",
   "metadata": {},
   "source": [
    "`FleurinpModifier` contains more general xml methods to deal with tags, attributes and text of an xml file.\n",
    "They require some knoledge on the internal structure of the `inp.xml` file, however, provide more general and flexible tools for inp.xml manipulation.\n",
    "\n",
    "In this tutorial we will cover only a few existing methods, for all of them see [the documentation](https://aiida-fleur.readthedocs.io/en/latest/user_guide/plugin/fleurinp_data.html#id1).\n",
    "\n",
    "The first example is changing `itmax` in the `inp.xml` file. We did it already via `set_inpchanges()` methods above, but there is another way to do it:"
   ]
  },
  {
   "cell_type": "code",
   "execution_count": null,
   "metadata": {},
   "outputs": [],
   "source": [
    "xpathn = '/fleurInput/calculationSetup/scfLoop'\n",
    "fleurmode.xml_set_all_attribv(xpathn, 'itmax', 29)\n",
    "fleurmode.show(validate=True) # preview the result"
   ]
  },
  {
   "cell_type": "markdown",
   "metadata": {},
   "source": [
    "Another example is changing the total number of k-points by replacing `kPointCount` tag entirely. It can be done using `replace_tag()`:"
   ]
  },
  {
   "cell_type": "code",
   "execution_count": null,
   "metadata": {},
   "outputs": [],
   "source": [
    "from lxml import etree\n",
    "\n",
    "kpoint_xpath = '/fleurInput/calculationSetup/bzIntegration/kPointList'\n",
    "\n",
    "nkpts = 400\n",
    "gamma='F'\n",
    "\n",
    "new_kpt_tag = etree.Element('kPointCount', count=\"{}\".format(nkpts), gamma=\"{}\".format(gamma))\n",
    "fleurmode.replace_tag(kpoint_xpath, new_kpt_tag)\n",
    "fleurmode.show(validate=True) # preview the result\n",
    "fleurmode.undo() # drop the last change"
   ]
  },
  {
   "cell_type": "markdown",
   "metadata": {},
   "source": [
    "or more simply be a pre-defined method `set_nkpts()`:"
   ]
  },
  {
   "cell_type": "code",
   "execution_count": null,
   "metadata": {},
   "outputs": [],
   "source": [
    "nkpts = 800\n",
    "fleurmode.set_nkpts(count=nkpts)\n",
    "fleurmode.show(validate=True) # preview the result"
   ]
  },
  {
   "cell_type": "markdown",
   "metadata": {},
   "source": [
    "In conclusion, there are two types of registration methods: pre-defined and xml ones. Pre-defined changes already know where to find a certain attribute that a user wants to change. In contrast, XML methods can be more flexible because they require an xml path to work.\n",
    "\n",
    "In next tutorial we are going to learn how to generate `inp.xml` and corresponding `FleurinpData` object using the `inpgen` code."
   ]
  }
 ],
 "metadata": {
  "kernelspec": {
   "display_name": "Python 3",
   "language": "python",
   "name": "python3"
  },
  "language_info": {
   "codemirror_mode": {
    "name": "ipython",
    "version": 3
   },
   "file_extension": ".py",
   "mimetype": "text/x-python",
   "name": "python",
   "nbconvert_exporter": "python",
   "pygments_lexer": "ipython3",
   "version": "3.7.2"
  },
  "toc": {
   "base_numbering": 1,
   "nav_menu": {},
   "number_sections": false,
   "sideBar": true,
   "skip_h1_title": false,
   "title_cell": "Table of Contents",
   "title_sidebar": "Contents",
   "toc_cell": false,
   "toc_position": {},
   "toc_section_display": true,
   "toc_window_display": false
  }
 },
 "nbformat": 4,
 "nbformat_minor": 4
}
