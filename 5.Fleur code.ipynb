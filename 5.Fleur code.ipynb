{
 "cells": [
  {
   "cell_type": "markdown",
   "metadata": {},
   "source": [
    "*please execute the cell below before starting the tutorial by selecting the cell and pressing Ctrl+Enter*"
   ]
  },
  {
   "cell_type": "code",
   "execution_count": null,
   "metadata": {
    "scrolled": true
   },
   "outputs": [],
   "source": [
    "from aiida.orm import Dict, load_node\n",
    "from aiida.engine import submit\n",
    "from aiida import load_profile\n",
    "\n",
    "load_profile()"
   ]
  },
  {
   "cell_type": "markdown",
   "metadata": {},
   "source": [
    "# Fleur code"
   ]
  },
  {
   "cell_type": "markdown",
   "metadata": {},
   "source": [
    "Fleur code is represented by `FleurCalculation` class in AiiDA.\n",
    "\n",
    "Generally one needs only two inputs for a Fleur calculation: an `inp.xml` file and initial charge density. As you already know, there is the `FleurinpData` class representing an `inp.xml` file. Therefore, we will see a `FleurinpData` object in the inputs. \n",
    "\n",
    "No class represents charge density in AiiDA-Fleur and one can not pass it explicitly into the `FleurCalculation`. However, it can be done specifying `RemoteData` node that represents a calculation folder of a previous FLEUR calculation. If a `RemoteData` input is given, the calculation automatically finds its charge density (and `inp.xml` in some cases) and uses it as an input. This will be explained in detail in next sub-section."
   ]
  },
  {
   "cell_type": "markdown",
   "metadata": {},
   "source": [
    "## Inputs of the Fleur calculation"
   ]
  },
  {
   "cell_type": "markdown",
   "metadata": {},
   "source": [
    "|name|type|description| required |\n",
    "|:---:|:---:|:---------:|:---:|\n",
    "|code | Code | Fleur code| yes |\n",
    "|fleurinpdata | FleurinpData | Object representing inp.xml| no |\n",
    "|parent_folder | RemoteData | Remote folder of another calculation| no |\n",
    "|settings | Dict | special settings | no |\n",
    "|metadata.options | Dict | computational resources | yes |"
   ]
  },
  {
   "cell_type": "markdown",
   "metadata": {},
   "source": [
    "**code** is a `Code` object representing Fleur code stored in the database; it is the only required input (except `metadata.options`). However, it is not enough to specify the **code** only: one *must* provide one of supported input configurations in addition the the **code**:\n",
    "\n",
    "* **fleurinp**: files belonging to **fleurinp** will be used as input for FLEUR calculation.\n",
    "* **fleurinp** + **parent_folder (FLEUR)**: files, given in the **fleurinp** will be used as input for FLEUR calculation. Moreover, initial charge density will be copied from the folder of the parent calculation.\n",
    "* **parent_folder (FLEUR)**: Copies `inp.xml` file and initial charge density from the folder of the parent FLEUR calculation.\n",
    "* **parent_folder (input generator)**: Copies `inp.xml` file from the folder of the parent inpgen calculation.\n",
    "* **parent_folder (input generator)** + **fleurinp**: files belonging to **fleurinp** will be used as input for FLEUR calculation. Remote folder is ignored.\n",
    "\n",
    "In this tutorial we are going to use **code** + **fleurinpdata** configuration only.\n",
    "\n",
    "**settings** are used to modify a list of files to be copied to/from/between calculation folders and to append command options to the executable. We will not cover this in the tutorial, however, you can refer to [documentation](https://aiida-fleur.readthedocs.io/en/v1.1.0/user_guide/calculations/fleurcode_plugin.html#additional-advanced-features).\n"
   ]
  },
  {
   "cell_type": "markdown",
   "metadata": {},
   "source": [
    "## Fleur code submission"
   ]
  },
  {
   "cell_type": "markdown",
   "metadata": {},
   "source": [
    "### Inputs preparation"
   ]
  },
  {
   "cell_type": "markdown",
   "metadata": {},
   "source": [
    "First of all, we need to import `FleurCalculation` class."
   ]
  },
  {
   "cell_type": "code",
   "execution_count": null,
   "metadata": {},
   "outputs": [],
   "source": [
    "from aiida_fleur.calculation.fleur import FleurCalculation"
   ]
  },
  {
   "cell_type": "markdown",
   "metadata": {},
   "source": [
    "or use the `CalculationFactory`:"
   ]
  },
  {
   "cell_type": "code",
   "execution_count": null,
   "metadata": {},
   "outputs": [],
   "source": [
    "from aiida.plugins import CalculationFactory\n",
    "FleurCalculation = CalculationFactory('fleur.fleur')"
   ]
  },
  {
   "cell_type": "markdown",
   "metadata": {},
   "source": [
    "and prepare input nodes. Configured and ready-to-use Fleur code object is already stored in your database under the PK=???. Now you can load it via:"
   ]
  },
  {
   "cell_type": "code",
   "execution_count": null,
   "metadata": {},
   "outputs": [],
   "source": [
    "fleur_code = load_node(<fleur_pk>)"
   ]
  },
  {
   "cell_type": "markdown",
   "metadata": {},
   "source": [
    "We are going to use a `FleurinpData` that you created in tutorial 4. Please, remind a PK of a Fe monolayer structure and load in via the same command:"
   ]
  },
  {
   "cell_type": "code",
   "execution_count": null,
   "metadata": {},
   "outputs": [],
   "source": [
    "# you need to modify this - please remind the PK of previously created FleurinpData \n",
    "fleurinpdata = load_node(<fleurinp_pk>)"
   ]
  },
  {
   "cell_type": "markdown",
   "metadata": {},
   "source": [
    "We also need to define computational options. We use a parallel Fleur version and thus set 'withmpi' to True and submit two MPI processes:"
   ]
  },
  {
   "cell_type": "code",
   "execution_count": null,
   "metadata": {},
   "outputs": [],
   "source": [
    "options = {'resources' : {\"num_machines\": 1, \"num_mpiprocs_per_machine\" : 2},\n",
    "           'withmpi' : True,\n",
    "           'max_wallclock_seconds' : 600}"
   ]
  },
  {
   "cell_type": "markdown",
   "metadata": {},
   "source": [
    "#### Few  more words about FleurCalculation options\n",
    "\n",
    "As you will see, sometimes FleurCalculation is submitted with computational setup differing from given. The reason for this is the [check_kpts()](https://aiida-fleur.readthedocs.io/en/v1.1.0/user_guide/workflows/base_wc.html#check-kpts-method) method that is responsible for adjusting input options to ensure perfect k-point parallelisation. Thus, input parallelisation parameters are treated as maximal amount of available resources, e.g. the higher limit.\n",
    "\n",
    "For example, if there are $90$ kpts = $2 * 3 * 3 * 5$ kpts and you specified ``'resources' : {\"num_machines\": 2, \"num_mpiprocs_per_machine\" : 24}``, the `check_kpts()` will be choosing one of the following configurations:\n",
    "\n",
    "    (1 node, 18 MPI) and (2 nodes, 15 MPI)\n",
    "    \n",
    "and will choose the second one because it gives higher amout of working CPUs. \n",
    "\n",
    "The method supports OMP parallelisation as well. To enable it, simply add `\"num_cores_per_mpiproc\"` to the `resources` dict:\n",
    "\n",
    "       'resources' : {\"num_machines\": 2, \"num_mpiprocs_per_machine\" : 4, \"num_cores_per_mpiproc\": 6}\n",
    "       \n",
    "In this case `check_kpts()` will still enforce perfect k-point parallelisation over MPI but will have more freedom to reduce loss of the computational power. If we consider the case of $90$ kpts again, the algorithm will be choosing between:\n",
    "\n",
    "    (1 node, 2 MPI, 12 OMP), (1 node, 3 MPI, 8 OMP), (1 node, 6 MPI, 4 OMP) and (2 nodes, 3 MPI, 8 OMP)\n",
    "    \n",
    "`(2 nodes, 3 MPI, 8 OMP)` will be choosen as one providing the highest number of working CPUs (it is actually perfect - zero CPUs will remain idle - in contrast to pure MPI parallelisation). Finally, if there are several good suggestions differing less than 10% from each other, the choice will be done according to proximity to MPI/OMP ratio given by user."
   ]
  },
  {
   "cell_type": "markdown",
   "metadata": {},
   "source": [
    "### Assembling inputs in a single dictionary"
   ]
  },
  {
   "cell_type": "markdown",
   "metadata": {},
   "source": [
    "Similarly to `FleurinpgenCalculation`, we will use `get_builder()` method to assemble all the inputs:"
   ]
  },
  {
   "cell_type": "code",
   "execution_count": null,
   "metadata": {},
   "outputs": [],
   "source": [
    "inputs = FleurCalculation.get_builder()\n",
    "inputs.code = fleur_code\n",
    "inputs.fleurinpdata = fleurinpdata\n",
    "inputs.metadata.options = options"
   ]
  },
  {
   "cell_type": "markdown",
   "metadata": {},
   "source": [
    "### Job submission"
   ]
  },
  {
   "cell_type": "markdown",
   "metadata": {},
   "source": [
    "Looks the same as for `FluerinpgenCalculation` (and any other AiiDA calculation):"
   ]
  },
  {
   "cell_type": "code",
   "execution_count": null,
   "metadata": {},
   "outputs": [],
   "source": [
    "fleur_process = submit(FleurCalculation, **inputs)\n",
    "print('The PK of submitted job is {}'.format(fleur_process.pk))"
   ]
  },
  {
   "cell_type": "markdown",
   "metadata": {},
   "source": [
    "## Results analysis"
   ]
  },
  {
   "cell_type": "markdown",
   "metadata": {},
   "source": [
    "After FLEUR code is submitted, you can check the status of all submitted processes for last 24 hours:"
   ]
  },
  {
   "cell_type": "code",
   "execution_count": null,
   "metadata": {},
   "outputs": [],
   "source": [
    "!verdi process list -a -p 1"
   ]
  },
  {
   "cell_type": "markdown",
   "metadata": {},
   "source": [
    "You can also check the status of inpgen calculation directly. Try running next cell and examine the output:"
   ]
  },
  {
   "cell_type": "code",
   "execution_count": null,
   "metadata": {},
   "outputs": [],
   "source": [
    "# you need to modify this - insert the FleurCalculation PK:\n",
    "!verdi process status <fleurcalc_pk>"
   ]
  },
  {
   "cell_type": "markdown",
   "metadata": {},
   "source": [
    "Wait till the process status becomes 'Finished'. Then, let us explore the output nodes. `FleurCalculation` generates three output nodes:\n",
    "\n",
    "|name| type | comment|\n",
    "|:--:|:----:|:----------:|\n",
    "|output_parameters|Dict| contains parsed `out.xml`|\n",
    "|remote_folder| FolderData| represents calculation folder |\n",
    "|retrieved| FolderData | represents retrieved folder |\n",
    "\n",
    "To extract their PKs, run:"
   ]
  },
  {
   "cell_type": "code",
   "execution_count": null,
   "metadata": {},
   "outputs": [],
   "source": [
    "# you need to modify this - insert the FleurCalculation PK:\n",
    "!verdi process show <fleurcalc_pk>"
   ]
  },
  {
   "cell_type": "markdown",
   "metadata": {},
   "source": [
    "The other way to access the output nodes is to find them in ``fleur_calc_node.outputs``:"
   ]
  },
  {
   "cell_type": "code",
   "execution_count": null,
   "metadata": {},
   "outputs": [],
   "source": [
    "# you need to modify this - insert the FleurCalculation PK:\n",
    "fleur_calc_node = load_node(<fleurcalc_pk>)\n",
    "output_parameters = fleur_calc_node.outputs.output_parameters\n",
    "print('PK of the output parameters is {}'.format(output_parameters.pk))"
   ]
  },
  {
   "cell_type": "markdown",
   "metadata": {},
   "source": [
    "The `output_parameters` dictionary contains parsed `out.xml` file. To print its content, run:"
   ]
  },
  {
   "cell_type": "code",
   "execution_count": null,
   "metadata": {},
   "outputs": [],
   "source": [
    "output_parameters.get_dict()"
   ]
  },
  {
   "cell_type": "markdown",
   "metadata": {},
   "source": [
    "or"
   ]
  },
  {
   "cell_type": "code",
   "execution_count": null,
   "metadata": {},
   "outputs": [],
   "source": [
    "#you need to modify it - replace OUTPUT_PARAM_PK\n",
    "!verdi data dict show <output_param_pk>"
   ]
  },
  {
   "cell_type": "markdown",
   "metadata": {},
   "source": [
    "Analysing output dictionary, can you tell what is the band gap and total energy of the ground state?"
   ]
  },
  {
   "cell_type": "markdown",
   "metadata": {},
   "source": [
    "# Scripting tasks"
   ]
  },
  {
   "cell_type": "markdown",
   "metadata": {},
   "source": [
    "#### 1.  Run a  Fleur calculation for the Si (remote_folder input configuration)"
   ]
  },
  {
   "cell_type": "markdown",
   "metadata": {},
   "source": [
    "Create a script and run it in the terminal, passing to `FleurCalculation` **code** + **fleurinpdata** + **remote_folder**. Use **remote_folder** and **fleurinpdata** of the calculation in this tutorial. Modify **fleurinpdata**: change the number of iterations to 30 and mixing parameter alpha to 0.02.\n",
    "\n",
    "Answer the questions:\n",
    "\n",
    "1. What files were copied to the calculation folder?\n",
    "1. How did the total energy change?\n",
    "2. How did the band gap change?\n",
    "3. How did the walltime change?"
   ]
  }
 ],
 "metadata": {
  "kernelspec": {
   "display_name": "Python 3",
   "language": "python",
   "name": "python3"
  },
  "language_info": {
   "codemirror_mode": {
    "name": "ipython",
    "version": 3
   },
   "file_extension": ".py",
   "mimetype": "text/x-python",
   "name": "python",
   "nbconvert_exporter": "python",
   "pygments_lexer": "ipython3",
   "version": "3.7.6"
  },
  "toc": {
   "base_numbering": 1,
   "nav_menu": {},
   "number_sections": false,
   "sideBar": true,
   "skip_h1_title": false,
   "title_cell": "Table of Contents",
   "title_sidebar": "Contents",
   "toc_cell": false,
   "toc_position": {},
   "toc_section_display": true,
   "toc_window_display": false
  }
 },
 "nbformat": 4,
 "nbformat_minor": 2
}
