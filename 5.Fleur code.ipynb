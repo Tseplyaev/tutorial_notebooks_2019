{
 "cells": [
  {
   "cell_type": "markdown",
   "metadata": {},
   "source": [
    "*please execute the cell below before starting the tutorial by selecting the cell and pressing Ctrl+Enter*"
   ]
  },
  {
   "cell_type": "code",
   "execution_count": null,
   "metadata": {
    "scrolled": true
   },
   "outputs": [],
   "source": [
    "from aiida.orm import Dict, load_node\n",
    "from aiida.engine import submit\n",
    "from aiida import load_profile\n",
    "\n",
    "load_profile()"
   ]
  },
  {
   "cell_type": "markdown",
   "metadata": {},
   "source": [
    "# Fleur code"
   ]
  },
  {
   "cell_type": "markdown",
   "metadata": {},
   "source": [
    "Fleur code is represented by a `FleurCalculation` class in AiiDA.\n",
    "\n",
    "Generally one needs only two inputs for a Fleur calculation: an `inp.xml` file and initial charge density. As you already know, there is a `FleurinpData` class representing an `inp.xml` file. Therefore, there is a `FleurinpData` object in the inputs. \n",
    "\n",
    "No class represents charge density in AiiDA-Fleur and one can not pass it explicitly into a `FleurCalculation`. However, it can be done specifying `RemoteData` node that represents a calculation folder of a previous FLEUR calculation. If a `RemoteData` input is given, the calculation automatically finds its charge density (and `inp.xml` in some cases) and uses it as an input. This will be explained more in next sub-section."
   ]
  },
  {
   "cell_type": "markdown",
   "metadata": {},
   "source": [
    "## Inputs of the Fleur calculation"
   ]
  },
  {
   "cell_type": "markdown",
   "metadata": {},
   "source": [
    "|name|type|description| required |\n",
    "|:---:|:---:|:---------:|:---:|\n",
    "|code | Code | Fleur code| yes |\n",
    "|fleurinpdata | FleurinpData | Object representing inp.xml| no |\n",
    "|parent_folder | RemoteData | Remote folder of another calculation| no |\n",
    "|settings | Dict | special settings | no |\n",
    "|metadata.options | Dict | computational resources | yes |"
   ]
  },
  {
   "cell_type": "markdown",
   "metadata": {},
   "source": [
    "**code** is a `Code` object representing Fleur code stored in the database; it is the only required input (except `metadata.options`). However, it is not enough to specify the **code** only: one *must* provide one of supported input configurations:\n",
    "\n",
    "* **code** + **fleurinpdata** : start a calculation from scratch using given `inp.xml`\n",
    "* **code** + **parent_folder** : start a calculation using `inp.xml` and charge density from the previous calculation\n",
    "* **code** + **fleurinpdata** + **parent_folder** : start a calculation using `inp.xml` from given `FleurinpData` and charge density from the previous calculation\n",
    "\n",
    "In this tutorial we are going to use **code** + **fleurinpdata** configuration only.\n",
    "\n",
    "**settings** is used to modify a list of files to be copied to/from/between calculation folders and to append command options to the executable. We will not cover this in the tutorial.\n"
   ]
  },
  {
   "cell_type": "markdown",
   "metadata": {},
   "source": [
    "## Fleur code submission"
   ]
  },
  {
   "cell_type": "markdown",
   "metadata": {},
   "source": [
    "### Inputs preparation"
   ]
  },
  {
   "cell_type": "markdown",
   "metadata": {},
   "source": [
    "First of all, we need to import `FleurCalculation` class."
   ]
  },
  {
   "cell_type": "code",
   "execution_count": null,
   "metadata": {},
   "outputs": [],
   "source": [
    "from aiida_fleur.calculation.fleur import FleurCalculation"
   ]
  },
  {
   "cell_type": "markdown",
   "metadata": {},
   "source": [
    "or use the `CalculationFactory`:"
   ]
  },
  {
   "cell_type": "code",
   "execution_count": null,
   "metadata": {},
   "outputs": [],
   "source": [
    "from aiida.plugins import CalculationFactory\n",
    "FleurinputgenCalculation = CalculationFactory('fleur.inpgen')"
   ]
  },
  {
   "cell_type": "markdown",
   "metadata": {},
   "source": [
    "and prepare input nodes. Configured and ready-to-use Fleur code object is already stored in your database under the PK=???. Now you can load it via:"
   ]
  },
  {
   "cell_type": "code",
   "execution_count": null,
   "metadata": {},
   "outputs": [],
   "source": [
    "fleur_code = load_node(2)"
   ]
  },
  {
   "cell_type": "markdown",
   "metadata": {},
   "source": [
    "We are going to use a `FleurinpData` that you created in tutorial 4. Please, remind a PK of a Fe monolayer structure and load in via the same command:"
   ]
  },
  {
   "cell_type": "code",
   "execution_count": null,
   "metadata": {},
   "outputs": [],
   "source": [
    "# you need to modify this - please remind the PK of previously created FleurinpData \n",
    "fleurinpdata = load_node(21)"
   ]
  },
  {
   "cell_type": "markdown",
   "metadata": {},
   "source": [
    "We also need to define computational options. We use a parallel Fleur version and thus set 'withmpi' to True and submit two MPI processes:"
   ]
  },
  {
   "cell_type": "code",
   "execution_count": null,
   "metadata": {},
   "outputs": [],
   "source": [
    "options = {'resources' : {\"num_machines\": 1, \"num_mpiprocs_per_machine\" : 2},\n",
    "           'withmpi' : True,\n",
    "           'max_wallclock_seconds' : 600}"
   ]
  },
  {
   "cell_type": "markdown",
   "metadata": {},
   "source": [
    "### Assembling inputs in a single dictionary"
   ]
  },
  {
   "cell_type": "markdown",
   "metadata": {},
   "source": [
    "Similarly to `FleurinpgenCalculation`, we will use `get_builder()` method to assemble all the inputs:"
   ]
  },
  {
   "cell_type": "code",
   "execution_count": null,
   "metadata": {},
   "outputs": [],
   "source": [
    "inputs = FleurCalculation.get_builder()\n",
    "inputs.code = fleur_code\n",
    "inputs.fleurinpdata = fleurinpdata\n",
    "inputs.metadata.options = options"
   ]
  },
  {
   "cell_type": "markdown",
   "metadata": {},
   "source": [
    "### Job submission"
   ]
  },
  {
   "cell_type": "markdown",
   "metadata": {},
   "source": [
    "Looks the same as for `FluerinpgenCalculation` (and any other AiiDA calculation):"
   ]
  },
  {
   "cell_type": "code",
   "execution_count": null,
   "metadata": {},
   "outputs": [],
   "source": [
    "fleur_process = submit(FleurCalculation, **inputs)\n",
    "print('The PK of submitted job is {}'.format(fleur_process.pk))"
   ]
  },
  {
   "cell_type": "markdown",
   "metadata": {},
   "source": [
    "## Results analysis"
   ]
  },
  {
   "cell_type": "markdown",
   "metadata": {},
   "source": [
    "After FLEUR code is submitted, you can check the status of all submitted processes for last 24 hours:"
   ]
  },
  {
   "cell_type": "code",
   "execution_count": null,
   "metadata": {},
   "outputs": [],
   "source": [
    "!verdi process list -a -p 1"
   ]
  },
  {
   "cell_type": "markdown",
   "metadata": {},
   "source": [
    "You can also check the status of inpgen calculation directly. Try running next cell and examine the output:"
   ]
  },
  {
   "cell_type": "code",
   "execution_count": null,
   "metadata": {},
   "outputs": [],
   "source": [
    "# you need to modify this - insert the FleurCalculation PK:\n",
    "!verdi process status 22"
   ]
  },
  {
   "cell_type": "markdown",
   "metadata": {},
   "source": [
    "Wait till the process status becomes 'Finished'. Then, let us explore the output nodes. `FleurCalculation` generates three output nodes:\n",
    "\n",
    "|name| type | comment|\n",
    "|:--:|:----:|:----------:|\n",
    "|output_parameters|Dict| contains parsed `out.xml`|\n",
    "|remote_folder| FolderData| represents calculation folder |\n",
    "|retrieved| FolderData | represents retrieved folder |\n",
    "\n",
    "To extract their PKs, run:"
   ]
  },
  {
   "cell_type": "code",
   "execution_count": null,
   "metadata": {},
   "outputs": [],
   "source": [
    "# you need to modify this - insert the FleurCalculation PK:\n",
    "!verdi process show 22"
   ]
  },
  {
   "cell_type": "markdown",
   "metadata": {},
   "source": [
    "The other way to access the output nodes is to find them in ``fleur_calc_node.outputs``:"
   ]
  },
  {
   "cell_type": "code",
   "execution_count": null,
   "metadata": {},
   "outputs": [],
   "source": [
    "# you need to modify this - insert the FleurCalculation PK:\n",
    "fleur_calc_node = load_node(22)\n",
    "output_parameters = fleur_calc_node.outputs.output_parameters\n",
    "print('PK of the output parameters is {}'.format(output_parameters.pk))"
   ]
  },
  {
   "cell_type": "markdown",
   "metadata": {},
   "source": [
    "The `output_parameters` dictionary contains parsed `out.xml` file. To print its content, run:"
   ]
  },
  {
   "cell_type": "code",
   "execution_count": null,
   "metadata": {},
   "outputs": [],
   "source": [
    "output_parameters.get_dict()"
   ]
  },
  {
   "cell_type": "markdown",
   "metadata": {},
   "source": [
    "or"
   ]
  },
  {
   "cell_type": "code",
   "execution_count": null,
   "metadata": {},
   "outputs": [],
   "source": [
    "#you need to modify it - replace OUTPUT_PARAM_PK\n",
    "!verdi data dict show 25"
   ]
  },
  {
   "cell_type": "markdown",
   "metadata": {},
   "source": [
    "Analysing output dictionary, can you tell what is the band gap and total energy of the ground state?"
   ]
  },
  {
   "cell_type": "markdown",
   "metadata": {},
   "source": [
    "# Scripting tasks"
   ]
  },
  {
   "cell_type": "markdown",
   "metadata": {},
   "source": [
    "#### 1.  Run a  Fleur calculation for the Si (remote_folder input configuration)"
   ]
  },
  {
   "cell_type": "markdown",
   "metadata": {},
   "source": [
    "Create a script and run it in the terminal, passing to `FleurCalculation` **code** + **fleurinpdata** + **remote_folder**. Use **remote_folder** and **fleurinpdata** of the calculation in this tutorial. Modify **fleurinpdata**: change the number of iterations to 30 and mixing parameter alpha to 0.02.\n",
    "\n",
    "Answer the questions:\n",
    "\n",
    "1. What files were copied to the calculation folder?\n",
    "1. How did the total energy change?\n",
    "2. How did the band gap change?\n",
    "3. How did the walltime change?"
   ]
  }
 ],
 "metadata": {
  "kernelspec": {
   "display_name": "Python 3",
   "language": "python",
   "name": "python3"
  },
  "language_info": {
   "codemirror_mode": {
    "name": "ipython",
    "version": 3
   },
   "file_extension": ".py",
   "mimetype": "text/x-python",
   "name": "python",
   "nbconvert_exporter": "python",
   "pygments_lexer": "ipython3",
   "version": "3.7.2"
  },
  "toc": {
   "base_numbering": 1,
   "nav_menu": {},
   "number_sections": false,
   "sideBar": true,
   "skip_h1_title": false,
   "title_cell": "Table of Contents",
   "title_sidebar": "Contents",
   "toc_cell": false,
   "toc_position": {},
   "toc_section_display": true,
   "toc_window_display": false
  }
 },
 "nbformat": 4,
 "nbformat_minor": 2
}
