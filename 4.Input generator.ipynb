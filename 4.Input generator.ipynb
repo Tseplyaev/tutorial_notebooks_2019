{
 "cells": [
  {
   "cell_type": "markdown",
   "metadata": {},
   "source": [
    "*please execute the cell below before starting the tutorial by selecting it and pressing Ctrl+Enter*"
   ]
  },
  {
   "cell_type": "code",
   "execution_count": null,
   "metadata": {
    "scrolled": true
   },
   "outputs": [],
   "source": [
    "from aiida.orm import Dict, load_node\n",
    "from aiida.engine import submit\n",
    "from aiida import load_profile\n",
    "\n",
    "load_profile()"
   ]
  },
  {
   "cell_type": "markdown",
   "metadata": {},
   "source": [
    "# Input generator code"
   ]
  },
  {
   "cell_type": "markdown",
   "metadata": {},
   "source": [
    "The inpgen code generates an `inp.xml` input-file for FLEUR using the simplified input. In AiiDA, a `Code` object representing input generator has a similar behaviour: it generates a `FleurinpData` from a list of simplified parameters. The code class wrapping inpgen code is called `FleurinputgenCalculation`. In this tutorial we are going to learn how to use it.\n",
    "\n",
    "First things first - let us get familiar with inputs of the `FleurinputgenCalculation`."
   ]
  },
  {
   "cell_type": "markdown",
   "metadata": {},
   "source": [
    "## Inputs of the input calculation"
   ]
  },
  {
   "cell_type": "markdown",
   "metadata": {},
   "source": [
    "`FleurinputgenCalculation` has four main input nodes listed in the table below:"
   ]
  },
  {
   "cell_type": "markdown",
   "metadata": {},
   "source": [
    "|name|type|description| required |\n",
    "|:---:|:---:|:---------:|:---:|\n",
    "|code | Code | Inpgen code| yes |\n",
    "|structure | StructureData | Structure data node| yes |\n",
    "|parameters | Dict | FLAPW parameters| no |\n",
    "|settings | Dict | special settings | no |\n",
    "|metadata.options | Dict | computational resources | yes |"
   ]
  },
  {
   "cell_type": "markdown",
   "metadata": {},
   "source": [
    "**code** is a `Code` representing inpgen inself in the database. \n",
    "\n",
    "Simplified input file is represented as a pair of input nodes: **structure** and **parameters**. **structure** is a `StructureData` node to be used in the simplified input file (`&lattice`). **parameters** is a nested dictionary containing nested name: value pairs and representing all other parameters of the simplified input file. For instance, if one wants to add a line\n",
    "\n",
    "    &kpt\n",
    "      div1=4   div2=5   div3=6 /\n",
    "\n",
    "to the simplified input file, it is necessary to append\n",
    "\n",
    "    'kpt': {\n",
    "        'div1': 4,\n",
    "        'div2' : 5,\n",
    "        'div3' : 6\n",
    "        }\n",
    "\n",
    "to the **parameters** dictionary.\n",
    "\n",
    "In some cases the simplified input file does not have names for nested values. In this case you can refer to the list of all supported keys:\n",
    "\n",
    "    'input': ['film', 'cartesian', 'cal_symm', 'checkinp', 'symor', 'oldfleur']\n",
    "    \n",
    "    'atom': ['id', 'z', 'rmt', 'dx', 'jri', 'lmax', 'lnonsph', 'ncst', 'econfig', 'bmu', 'lo', 'element', 'name']\n",
    "             \n",
    "    'comp': ['jspins', 'frcor', 'ctail', 'kcrel', 'gmax', 'gmaxxc', 'kmax']\n",
    "    \n",
    "    'exco': ['xctyp', 'relxc'],\n",
    "    \n",
    "    'film': ['dvac', 'dtild'],\n",
    "    \n",
    "    'soc': ['theta', 'phi'],\n",
    "    \n",
    "    'qss': ['x', 'y', 'z'],\n",
    "    \n",
    "    'kpt': ['nkpt', 'kpts', 'div1', 'div2', 'div3','tkb', 'tria'],\n",
    "    \n",
    "    'title': {}\n",
    "              \n",
    "For example, you can find that SOC ``theta`` and ``phi`` values can be set appending\n",
    "\n",
    "    'soc': {\n",
    "        'theta': 0.7,\n",
    "        'phi' : 0.26\n",
    "        }\n",
    "\n",
    "to the **parameters** dictionary, resulting in:\n",
    "\n",
    "    &soc\n",
    "      0.7 0.26 /\n",
    "      \n",
    "\n",
    "**settings** is used to modify a list of files to be copied to/from/between calculation folders and to add command options to the executable. We will not cover this in the tutorial.\n"
   ]
  },
  {
   "cell_type": "markdown",
   "metadata": {},
   "source": [
    "## Inpgen code submission"
   ]
  },
  {
   "cell_type": "markdown",
   "metadata": {},
   "source": [
    "### Inputs preparation "
   ]
  },
  {
   "cell_type": "markdown",
   "metadata": {},
   "source": [
    "To submit an inpgen calculation, we need to import `FleurinputgenCalculation` class"
   ]
  },
  {
   "cell_type": "code",
   "execution_count": null,
   "metadata": {},
   "outputs": [],
   "source": [
    "from aiida_fleur.calculation.fleurinputgen import FleurinputgenCalculation"
   ]
  },
  {
   "cell_type": "markdown",
   "metadata": {},
   "source": [
    "or use the `CalculationFactory`:"
   ]
  },
  {
   "cell_type": "code",
   "execution_count": null,
   "metadata": {},
   "outputs": [],
   "source": [
    "from aiida.plugins import CalculationFactory\n",
    "FleurinputgenCalculation = CalculationFactory('fleur.inpgen')"
   ]
  },
  {
   "cell_type": "markdown",
   "metadata": {},
   "source": [
    "and prepare all the inputs. You need to [configure](https://aiida-fleur.readthedocs.io/en/v1.1.0/user_guide/getting_started/getting_started.html#input-generator) inpgen code first and then load it from the database:"
   ]
  },
  {
   "cell_type": "code",
   "execution_count": null,
   "metadata": {},
   "outputs": [],
   "source": [
    "inpgen_code = load_node(<inpgen code pk>)"
   ]
  },
  {
   "cell_type": "markdown",
   "metadata": {},
   "source": [
    "We are going to use a structure that you created in tutorial 1. Please, find a PK of the Fe monolayer structure and load it via the `load_node()` command:"
   ]
  },
  {
   "cell_type": "code",
   "execution_count": null,
   "metadata": {},
   "outputs": [],
   "source": [
    "# you need to modify this - replace FE_PK\n",
    "structure_FeML = load_node(<FE_PK>)"
   ]
  },
  {
   "cell_type": "markdown",
   "metadata": {},
   "source": [
    "Next, we need to set up the **parameters** dictionary. For now we are going to specify k-mesh and kmax only:"
   ]
  },
  {
   "cell_type": "code",
   "execution_count": null,
   "metadata": {},
   "outputs": [],
   "source": [
    "parameters = Dict(dict={\n",
    "    'comp': {\n",
    "        'kmax': 3.85,\n",
    "        },\n",
    "    'kpt': {\n",
    "        'div1': 1,\n",
    "        'div2' : 1,\n",
    "        'div3' : 1\n",
    "        }})"
   ]
  },
  {
   "cell_type": "markdown",
   "metadata": {},
   "source": [
    "Finally, we need to specify computational resources for the task. Since inpgen usually takes a few seconds to finish, we always run it in serial, passing False to 'withmpi' and setting 1 MPI task."
   ]
  },
  {
   "cell_type": "code",
   "execution_count": null,
   "metadata": {},
   "outputs": [],
   "source": [
    "options = {'resources' : {\"num_machines\": 1, \"num_mpiprocs_per_machine\" : 1}, 'withmpi' : False}"
   ]
  },
  {
   "cell_type": "markdown",
   "metadata": {},
   "source": [
    "### Assembling inputs in a single dictionary"
   ]
  },
  {
   "cell_type": "markdown",
   "metadata": {},
   "source": [
    "All the input modes can be passed separately to the `FleurinpgenCalculation`. However, it much more convenient to assemble them in a single dictionary first, using `get_builder()` method:"
   ]
  },
  {
   "cell_type": "code",
   "execution_count": null,
   "metadata": {},
   "outputs": [],
   "source": [
    "inputs = FleurinputgenCalculation.get_builder()\n",
    "inputs.parameters = parameters\n",
    "inputs.code = inpgen_code\n",
    "inputs.structure = structure_FeML\n",
    "inputs.metadata.options = options  # note options are stored in inputs.metadata"
   ]
  },
  {
   "cell_type": "markdown",
   "metadata": {},
   "source": [
    "### Submission\n"
   ]
  },
  {
   "cell_type": "markdown",
   "metadata": {},
   "source": [
    "To submit the input generator, run `submit` function passing the input dictionary:"
   ]
  },
  {
   "cell_type": "code",
   "execution_count": null,
   "metadata": {},
   "outputs": [],
   "source": [
    "inpgen_process = submit(FleurinputgenCalculation, **inputs)\n",
    "print('The PK of submitted inpgen job is {}'.format(inpgen_process))"
   ]
  },
  {
   "cell_type": "markdown",
   "metadata": {},
   "source": [
    "`inpgen_pk` contains a PK of the input generator calculation node stored in the database. Later we can access all the information related to this run via this PK."
   ]
  },
  {
   "cell_type": "markdown",
   "metadata": {},
   "source": [
    "## Results analysis"
   ]
  },
  {
   "cell_type": "markdown",
   "metadata": {},
   "source": [
    "After inpgen code is submitted, you can check the status of all processes submitted not more than 24 hours ago:"
   ]
  },
  {
   "cell_type": "code",
   "execution_count": null,
   "metadata": {},
   "outputs": [],
   "source": [
    "!verdi process list -a -p 1"
   ]
  },
  {
   "cell_type": "markdown",
   "metadata": {},
   "source": [
    "You can also check the status of inpgen calculation directly. Try running next cell and examine the output:"
   ]
  },
  {
   "cell_type": "code",
   "execution_count": null,
   "metadata": {},
   "outputs": [],
   "source": [
    "# you need to modify this: insert an integer instead of INPGEN_PK\n",
    "!verdi process status <INPGEN_PK>"
   ]
  },
  {
   "cell_type": "markdown",
   "metadata": {},
   "source": [
    "Since input generator takes a few seconds to finish, you most probably will not be able to catch it in any other state except 'Finished'. Now let us explore the output nodes. `Fleurinpgencalculation` generates three output nodes:\n",
    "\n",
    "|name| type | comment|\n",
    "|:--:|:----:|:----------:|\n",
    "|fleurinpData|FleurinpData| represents `inp.xml`|\n",
    "|remote_folder| FolderData| represents calculation folder |\n",
    "|retrieved| FolderData | represents retrieved folder |\n",
    "\n",
    "You can get a list of their PKs running:"
   ]
  },
  {
   "cell_type": "code",
   "execution_count": null,
   "metadata": {},
   "outputs": [],
   "source": [
    "# you need to modify this: insert an integer instead of INPGEN_PK\n",
    "!verdi process show <INPGEN_PK>"
   ]
  },
  {
   "cell_type": "markdown",
   "metadata": {},
   "source": [
    "Now you can load any of the outputs via `load_node()` function. In addition, all the outputs can be found in `calc_node.outputs`:"
   ]
  },
  {
   "cell_type": "code",
   "execution_count": null,
   "metadata": {},
   "outputs": [],
   "source": [
    "# you need to modify this: insert an integer instead of INPGEN_PK\n",
    "inpgen_calc_node = load_node(<INPGEN_PK>)\n",
    "output_fleurinp = inpgen_calc_node.outputs.fleurinpData\n",
    "print('PK of the output FleurinpData is {}'.format(output_fleurinp.pk))"
   ]
  },
  {
   "cell_type": "markdown",
   "metadata": {},
   "source": [
    "Please, remember the `FleurinpData` PK, we are going to use this in our next tutorial."
   ]
  },
  {
   "cell_type": "markdown",
   "metadata": {},
   "source": [
    "# Scripting tasks"
   ]
  },
  {
   "cell_type": "markdown",
   "metadata": {},
   "source": [
    "Jupyter notebooks are convinient way to learn and run some jobs. However, I personally prefer using and running python scripts in a terminal for my work. As a final task of each tutorial, beggining from this one, you will be asked to construct a small python script and run it in a terminal."
   ]
  },
  {
   "cell_type": "markdown",
   "metadata": {},
   "source": [
    "First, you need to start a new terminal and type in:\n",
    "\n",
    "     $workon aiida\n",
    "     \n",
    "To execute a python-script, run\n",
    "\n",
    "     $(aiida) verdi run NAME_OF_THE_SCRIPT.py"
   ]
  },
  {
   "cell_type": "markdown",
   "metadata": {},
   "source": [
    "#### 1.  Run an inpgen calculation for Si"
   ]
  },
  {
   "cell_type": "markdown",
   "metadata": {},
   "source": [
    "Write a script that submits `FleurinpgenCalculation` for a Si structure given in the attached `Si.cif` file. Try to set up **parameters** dictionary to use parameters:\n",
    "\n",
    "| name | value | comment |\n",
    "|:----:|:-----:|:-------:|\n",
    "| atom -> rmt  | 2.23  | muffin-tin radius |\n",
    "| comp -> kmax | 3.84  | plane wave cut-off|\n",
    "| kpt -> div1  | 2 | number of kpts along x|\n",
    "| kpt -> div2  | 2 | number of kpts along y|\n",
    "| kpt -> div3  | 2 | number of kpts along z|\n",
    "\n"
   ]
  },
  {
   "cell_type": "markdown",
   "metadata": {},
   "source": [
    "Try finding out the PK of the output `FleurinpData` and remember it - you will need it in the next tutorial!"
   ]
  },
  {
   "cell_type": "markdown",
   "metadata": {},
   "source": [
    "#### 2.  Run an inpgen calculation for film structures"
   ]
  },
  {
   "cell_type": "markdown",
   "metadata": {},
   "source": [
    "Write a script that submits `FleurinpgenCalculation` for a fcc Fe, Ni and Co mololayer film (110) structures with a perioud length = 4.16 Å. Try to set up **parameters** dictionary to use parameters:\n",
    "\n",
    "| name | value | comment |\n",
    "|:----:|:-----:|:-------:|\n",
    "| comp -> kmax | 3.75  | plane wave cut-off|\n",
    "| kpt -> div1  | 4 | number of kpts along x|\n",
    "| kpt -> div2  | 4 | number of kpts along y|\n",
    "| kpt -> div3  | 1 | number of kpts along z|\n",
    "\n",
    "Also make sure that you remember all structures and `FleurinpData` PKs - we will use it later!\n",
    "\n",
    "*Hint*: Use `StructureData` methods.\n",
    "fcc (110) monolayer can be represented as a cell having a single atom at (0, 0, 0):\n",
    "\n",
    "    cell = [[0.7071068*a, 0.0, 0.0],\n",
    "            [0.0, 1.0*a, 0.0],\n",
    "            [0.0, 0.0, 0.7071068*a]]\n",
    "\n",
    "where a is a period length. You also need to set up periodic boundary conditions via\n",
    "\n",
    "    structure.pbc = (True, True, False)"
   ]
  },
  {
   "cell_type": "markdown",
   "metadata": {},
   "source": [
    "Try finding out PKs of the output `FleurinpData` and remember it - you will need it in the next tutorial!"
   ]
  }
 ],
 "metadata": {
  "@webio": {
   "lastCommId": null,
   "lastKernelId": null
  },
  "kernelspec": {
   "display_name": "Python 3",
   "language": "python",
   "name": "python3"
  },
  "language_info": {
   "codemirror_mode": {
    "name": "ipython",
    "version": 3
   },
   "file_extension": ".py",
   "mimetype": "text/x-python",
   "name": "python",
   "nbconvert_exporter": "python",
   "pygments_lexer": "ipython3",
   "version": "3.7.6"
  },
  "toc": {
   "base_numbering": 1,
   "nav_menu": {},
   "number_sections": false,
   "sideBar": true,
   "skip_h1_title": false,
   "title_cell": "Table of Contents",
   "title_sidebar": "Contents",
   "toc_cell": false,
   "toc_position": {},
   "toc_section_display": true,
   "toc_window_display": false
  }
 },
 "nbformat": 4,
 "nbformat_minor": 2
}
